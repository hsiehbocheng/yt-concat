{
 "cells": [
  {
   "cell_type": "code",
   "execution_count": 18,
   "metadata": {},
   "outputs": [],
   "source": [
    "from dotenv import load_dotenv\n",
    "load_dotenv()\n",
    "YOUTUBE_API_KEY = os.getenv('YOUTUBE_API_KEY')\n",
    "CHENNEL_ID = 'UCcabW7890RKJzL968QWEykA'\n",
    "\n",
    "import os\n",
    "import yt_dlp\n",
    "output_path = './notebook_output'\n"
   ]
  },
  {
   "cell_type": "code",
   "execution_count": 28,
   "metadata": {},
   "outputs": [],
   "source": [
    "with open(f'{output_path}/video_list.txt', 'r') as f:\n",
    "    video_list = f.readlines()"
   ]
  },
  {
   "cell_type": "code",
   "execution_count": 30,
   "metadata": {},
   "outputs": [
    {
     "data": {
      "text/plain": [
       "<pytube.__main__.YouTube object: videoId=lW2pXu97Yvo>"
      ]
     },
     "execution_count": 30,
     "metadata": {},
     "output_type": "execute_result"
    }
   ],
   "source": [
    "# from pytube3 import YouTube # for Python 3\n",
    "from pytube import YouTube # for Python 2\n",
    "yt = YouTube('https://www.youtube.com/watch?v=lW2pXu97Yvo')\n",
    "yt"
   ]
  },
  {
   "cell_type": "code",
   "execution_count": 31,
   "metadata": {},
   "outputs": [
    {
     "name": "stdout",
     "output_type": "stream",
     "text": [
      "[youtube] Extracting URL: https://www.youtube.com/watch?v=MH6oM7QJyzchttps://www.youtube.com/watch?v=9rT9vYlYVoshttps://www.../watch?v=2ULSgQ1oBgo\n",
      "[youtube] MH6oM7QJyzc: Downloading webpage\n",
      "[youtube] MH6oM7QJyzc: Downloading ios player API JSON\n",
      "[youtube] MH6oM7QJyzc: Downloading android player API JSON\n",
      "[youtube] MH6oM7QJyzc: Downloading player 0a835141\n",
      "[youtube] MH6oM7QJyzc: Downloading m3u8 information\n",
      "[info] MH6oM7QJyzc: Downloading subtitles: en\n",
      "[info] MH6oM7QJyzc: Downloading 1 format(s): 22\n",
      "[info] Writing video subtitles to: Office Hours @ Harvard Law School - September 1, 2023 [MH6oM7QJyzc].en.vtt\n",
      "[download] Destination: Office Hours @ Harvard Law School - September 1, 2023 [MH6oM7QJyzc].en.vtt\n",
      "[download] 100% of  299.10KiB in 00:00:00 at 734.14KiB/s\n"
     ]
    }
   ],
   "source": [
    "ydl_opts = {\n",
    "    'writesubtitles': True,\n",
    "    'writeautomaticsub': True,\n",
    "    'skip_download': True,\n",
    "    'subtitleslangs': ['en'],}\n",
    "\n",
    "url = video_list[0]\n",
    "\n",
    "with yt_dlp.YoutubeDL(ydl_opts) as ydl:\n",
    "    ydl.download([url])"
   ]
  },
  {
   "cell_type": "code",
   "execution_count": 20,
   "metadata": {},
   "outputs": [
    {
     "data": {
      "text/plain": [
       "<yt_dlp.YoutubeDL.YoutubeDL at 0x7f86d0884250>"
      ]
     },
     "execution_count": 20,
     "metadata": {},
     "output_type": "execute_result"
    }
   ],
   "source": [
    "yt_dlp.YoutubeDL(ydl_opts)"
   ]
  }
 ],
 "metadata": {
  "kernelspec": {
   "display_name": "venv",
   "language": "python",
   "name": "python3"
  },
  "language_info": {
   "codemirror_mode": {
    "name": "ipython",
    "version": 3
   },
   "file_extension": ".py",
   "mimetype": "text/x-python",
   "name": "python",
   "nbconvert_exporter": "python",
   "pygments_lexer": "ipython3",
   "version": "3.9.12"
  },
  "orig_nbformat": 4
 },
 "nbformat": 4,
 "nbformat_minor": 2
}
