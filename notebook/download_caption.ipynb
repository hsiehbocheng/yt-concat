{
 "cells": [
  {
   "cell_type": "code",
   "execution_count": 1,
   "metadata": {},
   "outputs": [],
   "source": [
    "from dotenv import load_dotenv\n",
    "import os\n",
    "\n",
    "load_dotenv()\n",
    "YOUTUBE_API_KEY = os.getenv('YOUTUBE_API_KEY')\n",
    "CHENNEL_ID = 'UCcabW7890RKJzL968QWEykA'\n",
    "\n",
    "import os\n",
    "import yt_dlp"
   ]
  },
  {
   "cell_type": "code",
   "execution_count": 15,
   "metadata": {},
   "outputs": [],
   "source": [
    "with open(f'./notebook_output/video_list/{CHENNEL_ID}.txt', 'r') as f:\n",
    "    video_list = f.read().splitlines()"
   ]
  },
  {
   "cell_type": "code",
   "execution_count": 28,
   "metadata": {},
   "outputs": [
    {
     "name": "stdout",
     "output_type": "stream",
     "text": [
      "[youtube] Extracting URL: https://www.youtube.com/watch?v=CHcQC7oqs2I\n",
      "[youtube] CHcQC7oqs2I: Downloading webpage\n",
      "[youtube] CHcQC7oqs2I: Downloading ios player API JSON\n",
      "[youtube] CHcQC7oqs2I: Downloading android player API JSON\n",
      "[youtube] CHcQC7oqs2I: Downloading m3u8 information\n",
      "[info] CHcQC7oqs2I: Downloading subtitles: en\n",
      "[info] CHcQC7oqs2I: Downloading 1 format(s): 22\n",
      "Deleting existing file ./notebook_output/captions/UCcabW7890RKJzL968QWEykA/CHcQC7oqs2I.en.vtt\n",
      "[info] Writing video subtitles to: ./notebook_output/captions/UCcabW7890RKJzL968QWEykA/CHcQC7oqs2I.en.vtt\n",
      "[download] Destination: ./notebook_output/captions/UCcabW7890RKJzL968QWEykA/CHcQC7oqs2I.en.vtt\n",
      "[download] 100% of  216.33KiB in 00:00:00 at 1.81MiB/s\n"
     ]
    }
   ],
   "source": [
    "for url in video_list:\n",
    "    ydl_opts = {\n",
    "        \"writesubtitles\": True,\n",
    "        \"writeautomaticsub\": True,\n",
    "        \"skip_download\": True,\n",
    "        \"subtitleslangs\": [\"en\"],\n",
    "        \"convertsubs\": \"srt\",\n",
    "        \"outtmpl\": f'./notebook_output/captions/{CHENNEL_ID}/%(id)s',\n",
    "    }\n",
    "    with yt_dlp.YoutubeDL(ydl_opts) as ydl:\n",
    "        ydl.download([url])\n",
    "    break"
   ]
  },
  {
   "cell_type": "code",
   "execution_count": null,
   "metadata": {},
   "outputs": [],
   "source": []
  }
 ],
 "metadata": {
  "kernelspec": {
   "display_name": "venv",
   "language": "python",
   "name": "python3"
  },
  "language_info": {
   "codemirror_mode": {
    "name": "ipython",
    "version": 3
   },
   "file_extension": ".py",
   "mimetype": "text/x-python",
   "name": "python",
   "nbconvert_exporter": "python",
   "pygments_lexer": "ipython3",
   "version": "3.9.12"
  },
  "orig_nbformat": 4
 },
 "nbformat": 4,
 "nbformat_minor": 2
}
