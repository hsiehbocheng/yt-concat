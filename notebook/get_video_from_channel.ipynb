{
 "cells": [
  {
   "cell_type": "code",
   "execution_count": 1,
   "metadata": {},
   "outputs": [],
   "source": [
    "import json\n",
    "import urllib.request\n",
    "from dotenv import  load_dotenv\n",
    "import os\n",
    "load_dotenv()\n",
    "YOUTUBE_API_KEY = os.getenv('YOUTUBE_API_KEY')\n",
    "CHENNEL_ID = 'UCcabW7890RKJzL968QWEykA'\n",
    "output_path = './notebook_output'"
   ]
  },
  {
   "cell_type": "code",
   "execution_count": 2,
   "metadata": {},
   "outputs": [],
   "source": [
    "def get_all_video_in_channel(channel_id):\n",
    "    api_key = YOUTUBE_API_KEY\n",
    "    \n",
    "    base_video_url = 'https://www.youtube.com/watch?v='\n",
    "    base_search_url = 'https://www.googleapis.com/youtube/v3/search?'\n",
    "\n",
    "    first_url = base_search_url + f'key={api_key}&channelId={channel_id}&part=snippet,id&order=date&maxResults=25'\n",
    "    \n",
    "    video_links = []\n",
    "    url = first_url\n",
    "    while True:\n",
    "        inp = urllib.request.urlopen(url)\n",
    "        resp = json.load(inp)\n",
    "\n",
    "        for i in resp['items']:\n",
    "            if i['id']['kind'] == \"youtube#video\":\n",
    "                video_links.append(base_video_url + i['id']['videoId'])\n",
    "\n",
    "        try:\n",
    "            next_page_token = resp['nextPageToken']\n",
    "            url = first_url + f'&pageToken={next_page_token}'\n",
    "        except KeyError:\n",
    "            break\n",
    "    return video_links"
   ]
  },
  {
   "cell_type": "code",
   "execution_count": 3,
   "metadata": {},
   "outputs": [],
   "source": [
    "video_list = get_all_video_in_channel(CHENNEL_ID)\n",
    "with open(f'{output_path}/video_list.txt', 'w') as f:\n",
    "    for item in video_list:\n",
    "        f.write(item + '\\n')"
   ]
  }
 ],
 "metadata": {
  "kernelspec": {
   "display_name": "venv",
   "language": "python",
   "name": "python3"
  },
  "language_info": {
   "codemirror_mode": {
    "name": "ipython",
    "version": 3
   },
   "file_extension": ".py",
   "mimetype": "text/x-python",
   "name": "python",
   "nbconvert_exporter": "python",
   "pygments_lexer": "ipython3",
   "version": "3.9.12"
  },
  "orig_nbformat": 4
 },
 "nbformat": 4,
 "nbformat_minor": 2
}
